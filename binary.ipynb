{
  "nbformat": 4,
  "nbformat_minor": 0,
  "metadata": {
    "colab": {
      "provenance": [],
      "authorship_tag": "ABX9TyOrYTYLNYJfJ68aSx/rYUjA",
      "include_colab_link": true
    },
    "kernelspec": {
      "name": "python3",
      "display_name": "Python 3"
    },
    "language_info": {
      "name": "python"
    }
  },
  "cells": [
    {
      "cell_type": "markdown",
      "metadata": {
        "id": "view-in-github",
        "colab_type": "text"
      },
      "source": [
        "<a href=\"https://colab.research.google.com/github/ExpectationsHACK/GOMYCODE/blob/main/binary.ipynb\" target=\"_parent\"><img src=\"https://colab.research.google.com/assets/colab-badge.svg\" alt=\"Open In Colab\"/></a>"
      ]
    },
    {
      "cell_type": "code",
      "execution_count": null,
      "metadata": {
        "id": "SAGjoj77Tzrx"
      },
      "outputs": [],
      "source": [
        "def binary_search(arr, x):\n",
        "    \"\"\"\n",
        "    Performs binary search on the given sorted array 'arr' to find the element 'x'\n",
        "    Returns True if the element is found, otherwise False.\n",
        "    \"\"\"\n",
        "    low = 0\n",
        "    high = len(arr) - 1\n",
        "    while low <= high:\n",
        "        mid = (low + high) // 2\n",
        "        if arr[mid] == x:\n",
        "            return True\n",
        "        elif arr[mid] < x:\n",
        "            low = mid + 1\n",
        "        else:\n",
        "            high = mid - 1\n",
        "    return False\n",
        "\n",
        "# Testing the binary_search function with sample data\n",
        "print(binary_search([1,2,3,5,8], 6)) # Output: False\n",
        "print(binary_search([1,2,3,5,8], 5)) # Output: True\n"
      ]
    },
    {
      "cell_type": "code",
      "source": [
        "def power(a, b):\n",
        "    \"\"\"\n",
        "    Calculates the value of 'a' to the power 'b'.\n",
        "    \"\"\"\n",
        "    result = 1\n",
        "    for i in range(b):\n",
        "        result *= a\n",
        "    return result\n",
        "\n",
        "# Testing the power function with sample data\n",
        "print(power(3, 4)) # Output: 81\n"
      ],
      "metadata": {
        "id": "II1Cd_8_UMTd"
      },
      "execution_count": null,
      "outputs": []
    },
    {
      "cell_type": "code",
      "source": [
        "def bubble_sort(arr):\n",
        "    \"\"\"\n",
        "    Sorts the given array 'arr' using the bubble sort algorithm.\n",
        "    \"\"\"\n",
        "    n = len(arr)\n",
        "    for i in range(n):\n",
        "        # Last i elements are already in place\n",
        "        for j in range(0, n-i-1):\n",
        "            if arr[j] > arr[j+1]:\n",
        "                # Swap adjacent elements if they are in wrong order\n",
        "                arr[j], arr[j+1] = arr[j+1], arr[j]\n",
        "\n",
        "# Testing the bubble_sort function with sample data\n",
        "data = [29,13,22,37,52,49,46,71,56]\n",
        "bubble_sort(data)\n",
        "print(data) # Output: [13, 22, 29, 37, 46, 49, 52, 56, 71]\n"
      ],
      "metadata": {
        "id": "SAIfwV2tU2m1"
      },
      "execution_count": null,
      "outputs": []
    },
    {
      "cell_type": "code",
      "source": [
        "def merge_sort(lst):\n",
        "    if len(lst) <= 1:\n",
        "        return lst\n",
        "    \n",
        "    # Divide the list into two halves\n",
        "    mid = len(lst) // 2\n",
        "    left_half = lst[:mid]\n",
        "    right_half = lst[mid:]\n",
        "    \n",
        "    # Recursively sort each half\n",
        "    left_sorted = merge_sort(left_half)\n",
        "    right_sorted = merge_sort(right_half)\n",
        "    \n",
        "    # Merge the sorted halves\n",
        "    result = []\n",
        "    i = j = 0\n",
        "    while i < len(left_sorted) and j < len(right_sorted):\n",
        "        if left_sorted[i] < right_sorted[j]:\n",
        "            result.append(left_sorted[i])\n",
        "            i += 1\n",
        "        else:\n",
        "            result.append(right_sorted[j])\n",
        "            j += 1\n",
        "    \n",
        "    # Add any remaining elements from either half\n",
        "    result += left_sorted[i:]\n",
        "    result += right_sorted[j:]\n",
        "    \n",
        "    return result\n",
        "\n",
        "# Example usage\n",
        "lst = [29,13,22,37,52,49,46,71,56]\n",
        "sorted_lst = merge_sort(lst)\n",
        "print(sorted_lst)\n"
      ],
      "metadata": {
        "id": "4JuYA9rYVIsg"
      },
      "execution_count": null,
      "outputs": []
    },
    {
      "cell_type": "code",
      "source": [
        "def quick_sort(lst):\n",
        "    if len(lst) <= 1:\n",
        "        return lst\n",
        "    \n",
        "    # Choose a pivot element and partition the list\n",
        "    pivot = lst[0]\n",
        "    left = []\n",
        "    right = []\n",
        "    for i in range(1, len(lst)):\n",
        "        if lst[i] < pivot:\n",
        "            left.append(lst[i])\n",
        "        else:\n",
        "            right.append(lst[i])\n",
        "    \n",
        "    # Recursively sort the left and right partitions\n",
        "    left_sorted = quick_sort(left)\n",
        "    right_sorted = quick_sort(right)\n",
        "    \n",
        "    # Combine the sorted partitions and the pivot\n",
        "    return left_sorted + [pivot] + right_sorted\n",
        "\n",
        "# Example usage\n",
        "lst = [29,13,22,37,52,49,46,71,56]\n",
        "sorted_lst = quick_sort(lst)\n",
        "print(sorted_lst)\n"
      ],
      "metadata": {
        "id": "SD9msx8SVaYd"
      },
      "execution_count": null,
      "outputs": []
    }
  ]
}