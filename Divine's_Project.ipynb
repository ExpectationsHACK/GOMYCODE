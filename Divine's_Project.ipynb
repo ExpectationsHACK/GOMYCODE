{
  "nbformat": 4,
  "nbformat_minor": 0,
  "metadata": {
    "colab": {
      "provenance": [],
      "authorship_tag": "ABX9TyNfKhy90ppuk2tOoDZCGJ5u",
      "include_colab_link": true
    },
    "kernelspec": {
      "name": "python3",
      "display_name": "Python 3"
    },
    "language_info": {
      "name": "python"
    }
  },
  "cells": [
    {
      "cell_type": "markdown",
      "metadata": {
        "id": "view-in-github",
        "colab_type": "text"
      },
      "source": [
        "<a href=\"https://colab.research.google.com/github/ExpectationsHACK/GOMYCODE/blob/main/Divine's_Project.ipynb\" target=\"_parent\"><img src=\"https://colab.research.google.com/assets/colab-badge.svg\" alt=\"Open In Colab\"/></a>"
      ]
    },
    {
      "cell_type": "code",
      "execution_count": 1,
      "metadata": {
        "colab": {
          "base_uri": "https://localhost:8080/"
        },
        "id": "39T2kynp4eP5",
        "outputId": "a0bbacb9-29d6-40cc-a3b3-f15b7ddafa69"
      },
      "outputs": [
        {
          "output_type": "stream",
          "name": "stdout",
          "text": [
            "Welcome to Python world! Lert's start coding\n"
          ]
        }
      ],
      "source": [
        "print(\"Welcome to Python world! Lert's start coding\")"
      ]
    }
  ]
}