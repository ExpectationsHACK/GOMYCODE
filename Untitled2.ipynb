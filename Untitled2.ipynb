{
  "nbformat": 4,
  "nbformat_minor": 0,
  "metadata": {
    "colab": {
      "provenance": [],
      "authorship_tag": "ABX9TyN201FtiSuN8deEkmR6KDpB",
      "include_colab_link": true
    },
    "kernelspec": {
      "name": "python3",
      "display_name": "Python 3"
    },
    "language_info": {
      "name": "python"
    }
  },
  "cells": [
    {
      "cell_type": "markdown",
      "metadata": {
        "id": "view-in-github",
        "colab_type": "text"
      },
      "source": [
        "<a href=\"https://colab.research.google.com/github/ExpectationsHACK/GOMYCODE/blob/main/Untitled2.ipynb\" target=\"_parent\"><img src=\"https://colab.research.google.com/assets/colab-badge.svg\" alt=\"Open In Colab\"/></a>"
      ]
    },
    {
      "cell_type": "code",
      "execution_count": null,
      "metadata": {
        "id": "vJwR6dZojqQG"
      },
      "outputs": [],
      "source": [
        "def remove_common_chars(name1, name2):\n",
        "    \"\"\"\n",
        "    Removes common characters between two names and returns the remaining characters as a single string.\n",
        "    \"\"\"\n",
        "    name1_chars = list(name1.upper())\n",
        "    name2_chars = list(name2.upper())\n",
        "    for char in name1_chars[:]:\n",
        "        if char in name2_chars:\n",
        "            name1_chars.remove(char)\n",
        "            name2_chars.remove(char)\n",
        "    remaining_chars = name1_chars + name2_chars\n",
        "    return ''.join(remaining_chars)\n",
        "\n",
        "def get_relationship_status(remaining_chars):\n",
        "    \"\"\"\n",
        "    Uses the remaining characters to determine the relationship status according to the FLAMES game.\n",
        "    \"\"\"\n",
        "    flames = ['Friends', 'Love', 'Affection', 'Marriage', 'Enemy', 'Siblings']\n",
        "    count = len(remaining_chars)\n",
        "    while len(flames) > 1:\n",
        "        index = (count % len(flames)) - 1\n",
        "        flames.pop(index)\n",
        "        flames = flames[index:] + flames[:index]\n",
        "    return flames[0]\n",
        "\n",
        "# Take two names as input\n",
        "player1_name = input(\"Enter player 1 name: \")\n",
        "player2_name = input(\"Enter player 2 name: \")\n",
        "\n",
        "# Remove common characters and get remaining characters\n",
        "remaining_chars = remove_common_chars(player1_name, player2_name)\n",
        "print(f\"Remaining characters: {remaining_chars}\")\n",
        "\n",
        "# Get relationship status using remaining characters\n",
        "relationship_status = get_relationship_status(remaining_chars)\n",
        "print(f\"Relationship status: {relationship_status}\")\n"
      ]
    }
  ]
}