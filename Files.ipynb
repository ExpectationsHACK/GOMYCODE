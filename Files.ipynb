{
  "nbformat": 4,
  "nbformat_minor": 0,
  "metadata": {
    "colab": {
      "provenance": [],
      "authorship_tag": "ABX9TyPXbOj2cEin4lbP4ARuNXPh",
      "include_colab_link": true
    },
    "kernelspec": {
      "name": "python3",
      "display_name": "Python 3"
    },
    "language_info": {
      "name": "python"
    }
  },
  "cells": [
    {
      "cell_type": "markdown",
      "metadata": {
        "id": "view-in-github",
        "colab_type": "text"
      },
      "source": [
        "<a href=\"https://colab.research.google.com/github/ExpectationsHACK/GOMYCODE/blob/main/Files.ipynb\" target=\"_parent\"><img src=\"https://colab.research.google.com/assets/colab-badge.svg\" alt=\"Open In Colab\"/></a>"
      ]
    },
    {
      "cell_type": "code",
      "execution_count": null,
      "metadata": {
        "id": "S_kwPG1q1FQ4"
      },
      "outputs": [],
      "source": [
        "1\n",
        "with open('filename.txt', 'r') as file:\n",
        "    file_contents = file.read()\n",
        "    print(file_contents)\n"
      ]
    },
    {
      "cell_type": "code",
      "source": [
        "2\n",
        "# Open the file in read mode\n",
        "with open('file.txt', 'r') as f:\n",
        "    # Read the first line\n",
        "    first_line = f.readline()\n",
        "    # Read the second line\n",
        "    second_line = f.readline()\n",
        "\n",
        "# Print the first and second lines\n",
        "print(\"First line:\", first_line)\n",
        "print(\"Second line:\", second_line)\n"
      ],
      "metadata": {
        "id": "nNyMT1cC1bXk"
      },
      "execution_count": null,
      "outputs": []
    },
    {
      "cell_type": "code",
      "source": [
        "3\n",
        "def tail(file_path, n):\n",
        "    with open(file_path, 'r') as file:\n",
        "        lines = file.readlines()\n",
        "        last_n_lines = lines[-n:]\n",
        "    return last_n_lines\n",
        "\n",
        "file_path = 'example.txt'\n",
        "n = 5\n",
        "last_n_lines = tail(file_path, n)\n",
        "print(f\"Last {n} lines of {file_path} are:\")\n",
        "print(''.join(last_n_lines))\n"
      ],
      "metadata": {
        "id": "94m2SA_w2IcY"
      },
      "execution_count": null,
      "outputs": []
    },
    {
      "cell_type": "code",
      "source": [
        "4\n",
        "def count_words(filename):\n",
        "    with open(filename, 'r') as file:\n",
        "        text = file.read()\n",
        "        words = text.split()\n",
        "        return len(words)\n",
        "\n",
        "filename = input(\"Enter the filename: \")\n",
        "num_words = count_words(filename)\n",
        "print(\"Number of words:\", num_words)\n"
      ],
      "metadata": {
        "id": "LeWRMMe72Rcx"
      },
      "execution_count": null,
      "outputs": []
    },
    {
      "cell_type": "code",
      "source": [
        "5\n",
        "def read_last_n_lines(filename, n):\n",
        "    with open(filename, 'r') as file:\n",
        "        lines = file.readlines()\n",
        "        last_n_lines = lines[-n:]\n",
        "        return last_n_lines\n",
        "\n",
        "filename = input(\"Enter the filename: \")\n",
        "n = int(input(\"Enter the number of lines to read: \"))\n",
        "last_n_lines = read_last_n_lines(filename, n)\n",
        "print(\"Last\", n, \"lines of\", filename, \":\")\n",
        "for line in last_n_lines:\n",
        "    print(line.strip())\n"
      ],
      "metadata": {
        "id": "BjzFATmm29jy"
      },
      "execution_count": null,
      "outputs": []
    }
  ]
}