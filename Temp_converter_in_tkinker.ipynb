{
  "nbformat": 4,
  "nbformat_minor": 0,
  "metadata": {
    "colab": {
      "provenance": [],
      "authorship_tag": "ABX9TyNVdlg8+DdEFxq9BmZhiuzt",
      "include_colab_link": true
    },
    "kernelspec": {
      "name": "python3",
      "display_name": "Python 3"
    },
    "language_info": {
      "name": "python"
    }
  },
  "cells": [
    {
      "cell_type": "markdown",
      "metadata": {
        "id": "view-in-github",
        "colab_type": "text"
      },
      "source": [
        "<a href=\"https://colab.research.google.com/github/ExpectationsHACK/GOMYCODE/blob/main/Temp_converter_in_tkinker.ipynb\" target=\"_parent\"><img src=\"https://colab.research.google.com/assets/colab-badge.svg\" alt=\"Open In Colab\"/></a>"
      ]
    },
    {
      "cell_type": "code",
      "source": [
        "import tkinter as tk\n",
        "\n",
        "def fahrenheit_to_celsius():\n",
        "    try:\n",
        "        fahrenheit = float(ent_temperature.get())\n",
        "        celsius = (fahrenheit - 32) * 5/9\n",
        "        lbl_result.config(text=f\"{round(celsius, 2)}\\N{DEGREE CELSIUS}\")\n",
        "    except ValueError:\n",
        "        lbl_result.config(text=\"Invalid input\")\n",
        "\n",
        "window = tk.Tk()\n",
        "window.title(\"Temperature Converter\")\n",
        "window.resizable(width=False, height=False)\n",
        "\n",
        "frm_entry = tk.Frame(master=window)\n",
        "ent_temperature = tk.Entry(master=frm_entry, width=10)\n",
        "lbl_temp = tk.Label(master=frm_entry, text=\"\\N{DEGREE FAHRENHEIT}\")\n",
        "ent_temperature.grid(row=0, column=0, sticky=\"e\")\n",
        "lbl_temp.grid(row=0, column=1, sticky=\"w\")\n",
        "\n",
        "btn_convert = tk.Button(master=window, text=\"\\N{RIGHTWARDS BLACK ARROW}\", command=fahrenheit_to_celsius)\n",
        "lbl_result = tk.Label(master=window, text=\"\\N{DEGREE CELSIUS}\")\n",
        "frm_entry.grid(row=0, column=0, padx=10)\n",
        "btn_convert.grid(row=0, column=1, pady=10)\n",
        "lbl_result.grid(row=0, column=2, padx=10)\n",
        "\n",
        "window.mainloop()\n"
      ],
      "metadata": {
        "id": "yUkaub4msn7U"
      },
      "execution_count": null,
      "outputs": []
    }
  ]
}