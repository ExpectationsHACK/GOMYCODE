{
  "nbformat": 4,
  "nbformat_minor": 0,
  "metadata": {
    "colab": {
      "provenance": [],
      "authorship_tag": "ABX9TyO56Ngw8vr/olVLNPRz/SoG",
      "include_colab_link": true
    },
    "kernelspec": {
      "name": "python3",
      "display_name": "Python 3"
    },
    "language_info": {
      "name": "python"
    }
  },
  "cells": [
    {
      "cell_type": "markdown",
      "metadata": {
        "id": "view-in-github",
        "colab_type": "text"
      },
      "source": [
        "<a href=\"https://colab.research.google.com/github/ExpectationsHACK/GOMYCODE/blob/main/countdown.ipynb\" target=\"_parent\"><img src=\"https://colab.research.google.com/assets/colab-badge.svg\" alt=\"Open In Colab\"/></a>"
      ]
    },
    {
      "cell_type": "code",
      "execution_count": 1,
      "metadata": {
        "colab": {
          "base_uri": "https://localhost:8080/"
        },
        "id": "tf7g6qDYkKed",
        "outputId": "08d342d2-351c-40b7-edcd-4474ac558699"
      },
      "outputs": [
        {
          "output_type": "stream",
          "name": "stdout",
          "text": [
            "Enter the time in seconds: 45\n",
            "Fire in the hole!\n"
          ]
        }
      ],
      "source": [
        "import time\n",
        "\n",
        "def countdown(t):\n",
        "    while t:\n",
        "        mins, secs = divmod(t, 60)\n",
        "        timeformat = '{:02d}:{:02d}'.format(mins, secs)\n",
        "        print(timeformat, end='\\r')\n",
        "        time.sleep(1)\n",
        "        t -= 1\n",
        "\n",
        "    print('Fire in the hole!')\n",
        "\n",
        "t = input(\"Enter the time in seconds: \")\n",
        "\n",
        "countdown(int(t))\n"
      ]
    }
  ]
}