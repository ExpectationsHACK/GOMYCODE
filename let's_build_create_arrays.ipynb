{
  "nbformat": 4,
  "nbformat_minor": 0,
  "metadata": {
    "colab": {
      "provenance": [],
      "authorship_tag": "ABX9TyMZT1ZrWpwSl6XD2dbvFHBE",
      "include_colab_link": true
    },
    "kernelspec": {
      "name": "python3",
      "display_name": "Python 3"
    },
    "language_info": {
      "name": "python"
    }
  },
  "cells": [
    {
      "cell_type": "markdown",
      "metadata": {
        "id": "view-in-github",
        "colab_type": "text"
      },
      "source": [
        "<a href=\"https://colab.research.google.com/github/ExpectationsHACK/GOMYCODE/blob/main/let's_build_create_arrays.ipynb\" target=\"_parent\"><img src=\"https://colab.research.google.com/assets/colab-badge.svg\" alt=\"Open In Colab\"/></a>"
      ]
    },
    {
      "cell_type": "code",
      "execution_count": 1,
      "metadata": {
        "colab": {
          "base_uri": "https://localhost:8080/"
        },
        "id": "DXjB4jvelDCq",
        "outputId": "40382e78-9e69-426b-b8be-33f1fa81ae4e"
      },
      "outputs": [
        {
          "output_type": "stream",
          "name": "stdout",
          "text": [
            "NumPy array: [1 2 3 4 5]\n",
            "List: [1, 2, 3, 4, 5]\n"
          ]
        }
      ],
      "source": [
        "1\n",
        "import numpy as np\n",
        "\n",
        "# create a NumPy array\n",
        "arr = np.array([1, 2, 3, 4, 5])\n",
        "\n",
        "# convert the NumPy array to a list\n",
        "lst = arr.tolist()\n",
        "\n",
        "# print the original NumPy array\n",
        "print(\"NumPy array:\", arr)\n",
        "\n",
        "# print the converted list\n",
        "print(\"List:\", lst)\n"
      ]
    },
    {
      "cell_type": "code",
      "source": [
        "2\n",
        "#Manually (without direct function)\n",
        "import numpy as np\n",
        "\n",
        "# create a 3x3 array\n",
        "arr = np.array([[1, 2, 3], [4, 5, 6], [7, 8, 9]])\n",
        "\n",
        "# compute the sum of the diagonal elements manually\n",
        "diagonal_sum = 0\n",
        "for i in range(arr.shape[0]):\n",
        "    diagonal_sum += arr[i][i]\n",
        "\n",
        "# print the sum of the diagonal elements\n",
        "print(\"Sum of diagonal elements:\", diagonal_sum)\n",
        "\n",
        "\n",
        " #Using the trace function\n",
        "\n",
        "# create a 3x3 array\n",
        "arr = np.array([[1, 2, 3], [4, 5, 6], [7, 8, 9]])\n",
        "\n",
        "# compute the sum of the diagonal elements using the trace function\n",
        "diagonal_sum = np.trace(arr)\n",
        "\n",
        "# print the sum of the diagonal elements\n",
        "print(\"Sum of diagonal elements:\", diagonal_sum)\n",
        "\n"
      ],
      "metadata": {
        "colab": {
          "base_uri": "https://localhost:8080/"
        },
        "id": "9IiOEbdSlW16",
        "outputId": "9c290670-632d-4d69-a1ba-0cf7f3f06a04"
      },
      "execution_count": 3,
      "outputs": [
        {
          "output_type": "stream",
          "name": "stdout",
          "text": [
            "Sum of diagonal elements: 15\n",
            "Sum of diagonal elements: 15\n"
          ]
        }
      ]
    },
    {
      "cell_type": "code",
      "source": [
        "3\n",
        "import numpy as np\n",
        "\n",
        "# create a 2x2 array\n",
        "a = np.array([[1, 2], [3, 5]])\n",
        "\n",
        "# set the value of x\n",
        "x = 2\n",
        "\n",
        "# get all the values in the array that are higher than x\n",
        "result = a[a > x]\n",
        "\n",
        "# print the result\n",
        "print(\"Values higher than\", x, \"in array a:\", result)\n",
        "\n"
      ],
      "metadata": {
        "colab": {
          "base_uri": "https://localhost:8080/"
        },
        "id": "4fNlmRkKmOrx",
        "outputId": "97422661-c1f3-474f-e8d6-a7141ca186ab"
      },
      "execution_count": 5,
      "outputs": [
        {
          "output_type": "stream",
          "name": "stdout",
          "text": [
            "Values higher than 2 in array a: [3 5]\n"
          ]
        }
      ]
    },
    {
      "cell_type": "code",
      "source": [
        "4\n",
        "import numpy as np\n",
        "\n",
        "# create two 2x3 arrays\n",
        "A = np.array([[1, 2, 3], [4, 5, 6]])\n",
        "B = np.array([[7, 8, 9], [10, 11, 12]])\n",
        "\n",
        "# apply addition by hand to create a new array C\n",
        "C = np.zeros_like(A)  # create a new array of the same shape as A\n",
        "for i in range(A.shape[0]):\n",
        "    for j in range(A.shape[1]):\n",
        "        C[i][j] = A[i][j] + B[i][j]\n",
        "\n",
        "# print the original arrays and the new array C\n",
        "print(\"Array A:\", A)\n",
        "print(\"Array B:\", B)\n",
        "print(\"Array C:\", C)\n"
      ],
      "metadata": {
        "colab": {
          "base_uri": "https://localhost:8080/"
        },
        "id": "UqsBfVqjmZrn",
        "outputId": "61c4846c-b6d5-410c-ef6a-589d69f42b34"
      },
      "execution_count": 6,
      "outputs": [
        {
          "output_type": "stream",
          "name": "stdout",
          "text": [
            "Array A: [[1 2 3]\n",
            " [4 5 6]]\n",
            "Array B: [[ 7  8  9]\n",
            " [10 11 12]]\n",
            "Array C: [[ 8 10 12]\n",
            " [14 16 18]]\n"
          ]
        }
      ]
    },
    {
      "cell_type": "code",
      "source": [
        "5\n",
        "import numpy as np\n",
        "\n",
        "# create a 3x3 matrix\n",
        "matrix = np.array([[1, 2, 3], [4, 5, 6], [7, 8, 9]])\n",
        "\n",
        "# compute the mean of each row\n",
        "row_means = np.mean(matrix, axis=1)\n",
        "\n",
        "# subtract the row means from the matrix\n",
        "centered_matrix = matrix - row_means.reshape(-1, 1)\n",
        "\n",
        "# print the original matrix and the centered matrix\n",
        "print(\"Original matrix:\\n\", matrix)\n",
        "print(\"Centered matrix:\\n\", centered_matrix)\n"
      ],
      "metadata": {
        "colab": {
          "base_uri": "https://localhost:8080/"
        },
        "id": "923GE8Fcme7E",
        "outputId": "4a083b73-ef75-4e80-eaa9-715a88e87c40"
      },
      "execution_count": 7,
      "outputs": [
        {
          "output_type": "stream",
          "name": "stdout",
          "text": [
            "Original matrix:\n",
            " [[1 2 3]\n",
            " [4 5 6]\n",
            " [7 8 9]]\n",
            "Centered matrix:\n",
            " [[-1.  0.  1.]\n",
            " [-1.  0.  1.]\n",
            " [-1.  0.  1.]]\n"
          ]
        }
      ]
    }
  ]
}