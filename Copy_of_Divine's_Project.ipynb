{
  "nbformat": 4,
  "nbformat_minor": 0,
  "metadata": {
    "colab": {
      "provenance": [],
      "toc_visible": true,
      "authorship_tag": "ABX9TyOtWO8VC6v3OzRp/V1gRRhN",
      "include_colab_link": true
    },
    "kernelspec": {
      "name": "python3",
      "display_name": "Python 3"
    },
    "language_info": {
      "name": "python"
    }
  },
  "cells": [
    {
      "cell_type": "markdown",
      "metadata": {
        "id": "view-in-github",
        "colab_type": "text"
      },
      "source": [
        "<a href=\"https://colab.research.google.com/github/ExpectationsHACK/GOMYCODE/blob/main/Copy_of_Divine's_Project.ipynb\" target=\"_parent\"><img src=\"https://colab.research.google.com/assets/colab-badge.svg\" alt=\"Open In Colab\"/></a>"
      ]
    },
    {
      "cell_type": "code",
      "execution_count": null,
      "metadata": {
        "colab": {
          "base_uri": "https://localhost:8080/"
        },
        "id": "39T2kynp4eP5",
        "outputId": "a0bbacb9-29d6-40cc-a3b3-f15b7ddafa69"
      },
      "outputs": [
        {
          "output_type": "stream",
          "name": "stdout",
          "text": [
            "Welcome to Python world! Lert's start coding\n"
          ]
        }
      ],
      "source": [
        "print(\"Welcome to Python world! Lert's start coding\")"
      ]
    },
    {
      "cell_type": "code",
      "source": [
        "#Question 1\n",
        "\n",
        "#Write a Python program that accepts the user's first and last name, and prints them in reverse order with a space between them.\n",
        "\n",
        "# Accept user's first and last name as input\n",
        "first_name = input(\"Enter your first name: \")\n",
        "last_name = input(\"Enter your last name: \")\n",
        "\n",
        "# Print the full name in reverse order\n",
        "print(last_name + \" \" + first_name)\n",
        "\n",
        "\n",
        "\n"
      ],
      "metadata": {
        "id": "ZV20usEbXldT",
        "outputId": "458c0e10-1642-4fde-8fca-5e4ad0b67d3d",
        "colab": {
          "base_uri": "https://localhost:8080/"
        }
      },
      "execution_count": null,
      "outputs": [
        {
          "output_type": "stream",
          "name": "stdout",
          "text": [
            "Enter your first name: DIVINE\n",
            "Enter your last name: FELIX\n",
            "FELIX DIVINE\n"
          ]
        }
      ]
    },
    {
      "cell_type": "code",
      "source": [
        "#Question 2\n",
        "\n",
        "#Write a Python program that accepts an integer (n) and computes the value of n+nn+nnn.\n",
        "\n",
        "#The sample value of n is 5.\n",
        "\n",
        "#Expected Result: 615 (5+55+555)\n",
        "\n",
        "n = int(input(\"Enter an integer: \"))\n",
        "result = n + int(str(n) + str(n)) + int(str(n) + str(n) + str(n))\n",
        "print(result)\n",
        "\n"
      ],
      "metadata": {
        "id": "6RxqnfzzX3tl",
        "outputId": "d6f85086-234a-49b5-c9f4-3e25703c0c50",
        "colab": {
          "base_uri": "https://localhost:8080/"
        }
      },
      "execution_count": null,
      "outputs": [
        {
          "output_type": "stream",
          "name": "stdout",
          "text": [
            "Enter an integer: 5\n",
            "615\n"
          ]
        }
      ]
    },
    {
      "cell_type": "code",
      "source": [
        "#Question 3\n",
        "\n",
        "#Write a Python program to find whether a given number (accept from the user) is even or odd, and print out an appropriate message to the user.\n",
        "\n",
        "# Prompt the user to enter a number\n",
        "number = int(input(\"Enter a number: \"))\n",
        "\n",
        "# Determine whether the number is even or odd\n",
        "if number % 2 == 0:\n",
        "    print(number, \"is even.\")\n",
        "else:\n",
        "    print(number, \"is odd.\")\n"
      ],
      "metadata": {
        "id": "UGVUtEjtZg7P",
        "outputId": "6e31583b-32d7-454c-df11-b8e5bc7604b4",
        "colab": {
          "base_uri": "https://localhost:8080/"
        }
      },
      "execution_count": null,
      "outputs": [
        {
          "output_type": "stream",
          "name": "stdout",
          "text": [
            "Enter a number: 5\n",
            "5 is odd.\n"
          ]
        }
      ]
    },
    {
      "cell_type": "code",
      "source": [
        "#Question 4\n",
        "\n",
        "#Write a program which will find all such numbers which are divisible by 7 but are not a multiple of 5, between 2000 and 3200 (both included). The numbers obtained should be printed in a sequence on a single line.\n",
        "\n",
        "#Hints: Consider use range(#begin, #end) method\n",
        "\n",
        "for num in range(2000, 3201):\n",
        "    if num % 7 == 0 and num % 5 != 0:\n",
        "        print(num, end=' ')\n",
        "\n",
        "\n"
      ],
      "metadata": {
        "id": "KarBoqkoaEie",
        "outputId": "04b4d679-96b9-454f-fe3c-7d251caa6cb6",
        "colab": {
          "base_uri": "https://localhost:8080/"
        }
      },
      "execution_count": null,
      "outputs": [
        {
          "output_type": "stream",
          "name": "stdout",
          "text": [
            "2002 2009 2016 2023 2037 2044 2051 2058 2072 2079 2086 2093 2107 2114 2121 2128 2142 2149 2156 2163 2177 2184 2191 2198 2212 2219 2226 2233 2247 2254 2261 2268 2282 2289 2296 2303 2317 2324 2331 2338 2352 2359 2366 2373 2387 2394 2401 2408 2422 2429 2436 2443 2457 2464 2471 2478 2492 2499 2506 2513 2527 2534 2541 2548 2562 2569 2576 2583 2597 2604 2611 2618 2632 2639 2646 2653 2667 2674 2681 2688 2702 2709 2716 2723 2737 2744 2751 2758 2772 2779 2786 2793 2807 2814 2821 2828 2842 2849 2856 2863 2877 2884 2891 2898 2912 2919 2926 2933 2947 2954 2961 2968 2982 2989 2996 3003 3017 3024 3031 3038 3052 3059 3066 3073 3087 3094 3101 3108 3122 3129 3136 3143 3157 3164 3171 3178 3192 3199 "
          ]
        }
      ]
    },
    {
      "cell_type": "code",
      "source": [
        "#Question 5\n",
        "\n",
        "#Write a program that can compute the factorial of a given number. The results should be printed in a sequence on a single line. Suppose the following input is supplied to the program: 8. Then, the output should be: 40320 \n",
        "\n",
        "#Hint: The factorial function (symbol: !) multiplies all whole numbers from our chosen number down to 1. Examples: \n",
        "\n",
        "#4! = 4 × 3 × 2 × 1\n",
        "\n",
        "#8! = 8 × 7 × 6 × 5 × 4 × 3 × 2 × 1\n",
        "\n",
        "#1! = 1\n",
        "\n",
        "#0! = 1 (by convention)\n",
        "\n",
        "\n",
        "num = int(input(\"Enter a number: \")) # Take input from user\n",
        "\n",
        "fact = 1 # Initialize the factorial to 1\n",
        "\n",
        "# Loop through all numbers from num down to 1 and multiply them together\n",
        "for i in range(num, 0, -1):\n",
        "    fact *= i\n",
        "\n",
        "# Print the result\n",
        "print(fact)\n"
      ],
      "metadata": {
        "id": "HwK5sqwia8kM",
        "outputId": "70ae5bb5-19f0-4cc5-a84d-bbe3b315b771",
        "colab": {
          "base_uri": "https://localhost:8080/"
        }
      },
      "execution_count": null,
      "outputs": [
        {
          "output_type": "stream",
          "name": "stdout",
          "text": [
            "Enter a number: 10\n",
            "3628800\n"
          ]
        }
      ]
    },
    {
      "cell_type": "code",
      "source": [
        "#Question 6\n",
        "\n",
        "#Write a program to remove the characters which have odd index values of a given string.\n",
        "\n",
        "#For example: string =\"hello team\"\n",
        "\n",
        "#The result should be: hlota\n",
        "\n",
        "def remove_odd_index_chars(string):\n",
        "    result = \"\"\n",
        "    for i in range(len(string)):\n",
        "        if i % 2 == 0:\n",
        "            result += string[i]\n",
        "    return result\n",
        "\n"
      ],
      "metadata": {
        "id": "BS7eJgxhb1TC"
      },
      "execution_count": null,
      "outputs": []
    },
    {
      "cell_type": "code",
      "source": [
        "#Question 7\n",
        "\n",
        "#In this challenge, you must discount a price according to its value.\n",
        "\n",
        "#- If the price is 500 or above, there will be a 50% discount.\n",
        "\n",
        "#- If the price is between 200 and 500 (200 inclusive), there will be a 30% discount.\n",
        "\n",
        "#- If the price is less than 200, there will be a 10% discount.\n",
        "\n",
        "price = float(input(\"Enter the original price: \"))\n",
        "\n",
        "if price >= 500:\n",
        "    discounted_price = price * 0.5\n",
        "elif price >= 200:\n",
        "    discounted_price = price * 0.7\n",
        "else:\n",
        "    discounted_price = price * 0.9\n",
        "\n",
        "print(\"The discounted price is: \", discounted_price)\n"
      ],
      "metadata": {
        "id": "U9269LUhc9f-",
        "outputId": "d42b6865-5a8d-41ea-ac60-1006dd152f37",
        "colab": {
          "base_uri": "https://localhost:8080/"
        }
      },
      "execution_count": null,
      "outputs": [
        {
          "output_type": "stream",
          "name": "stdout",
          "text": [
            "Enter the original price: 500\n",
            "The discounted price is:  250.0\n"
          ]
        }
      ]
    }
  ]
}