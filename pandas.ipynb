{
  "nbformat": 4,
  "nbformat_minor": 0,
  "metadata": {
    "colab": {
      "provenance": [],
      "authorship_tag": "ABX9TyPxnFVNQoaMJSksUvmhWLcc",
      "include_colab_link": true
    },
    "kernelspec": {
      "name": "python3",
      "display_name": "Python 3"
    },
    "language_info": {
      "name": "python"
    }
  },
  "cells": [
    {
      "cell_type": "markdown",
      "metadata": {
        "id": "view-in-github",
        "colab_type": "text"
      },
      "source": [
        "<a href=\"https://colab.research.google.com/github/ExpectationsHACK/GOMYCODE/blob/main/pandas.ipynb\" target=\"_parent\"><img src=\"https://colab.research.google.com/assets/colab-badge.svg\" alt=\"Open In Colab\"/></a>"
      ]
    },
    {
      "cell_type": "code",
      "execution_count": 1,
      "metadata": {
        "colab": {
          "base_uri": "https://localhost:8080/"
        },
        "id": "O1rzvG7jy7yI",
        "outputId": "dc813b1d-5c26-4e16-8d19-c653c3359b6a"
      },
      "outputs": [
        {
          "output_type": "stream",
          "name": "stdout",
          "text": [
            "        name  score  attempts qualify\n",
            "a  Anastasia   12.5         1     yes\n",
            "b       Dima    9.0         3      no\n",
            "c  Katherine   16.5         2     yes\n",
            "        name  score  attempts qualify\n",
            "a  Anastasia   12.5         1     yes\n",
            "b       Dima    9.0         3      no\n",
            "c  Katherine   16.5         2     yes\n",
            "e      Emily    9.0         2      no\n",
            "f    Michael   20.0         3     yes\n",
            "g    Matthew   14.5         1     yes\n",
            "i      Kevin    8.0         2      no\n",
            "j      Jonas   19.0         1     yes\n",
            "        name  score\n",
            "a  Anastasia   12.5\n",
            "b       Dima    9.0\n",
            "c  Katherine   16.5\n",
            "e      Emily    9.0\n",
            "f    Michael   20.0\n",
            "g    Matthew   14.5\n",
            "i      Kevin    8.0\n",
            "j      Jonas   19.0\n",
            "        name  score  attempts qualify\n",
            "a  Anastasia   12.5         1     yes\n",
            "b       Dima    9.0         3      no\n",
            "c  Katherine   16.5         2     yes\n",
            "e      Emily    9.0         2      no\n",
            "f    Michael   20.0         3     yes\n",
            "g    Matthew   14.5         1     yes\n",
            "i      Kevin    8.0         2      no\n",
            "j      Jonas   19.0         1     yes\n",
            "k     Suresh   15.5         1     yes\n",
            "        name  score qualify\n",
            "a  Anastasia   12.5     yes\n",
            "b       Dima    9.0      no\n",
            "c  Katherine   16.5     yes\n",
            "e      Emily    9.0      no\n",
            "f    Michael   20.0     yes\n",
            "g    Matthew   14.5     yes\n",
            "i      Kevin    8.0      no\n",
            "j      Jonas   19.0     yes\n",
            "k     Suresh   15.5     yes\n",
            "        name  score qualify  Success\n",
            "a  Anastasia   12.5     yes        1\n",
            "b       Dima    9.0      no        0\n",
            "c  Katherine   16.5     yes        1\n",
            "e      Emily    9.0      no        0\n",
            "f    Michael   20.0     yes        1\n",
            "g    Matthew   14.5     yes        1\n",
            "i      Kevin    8.0      no        0\n",
            "j      Jonas   19.0     yes        1\n",
            "k     Suresh   15.5     yes        1\n"
          ]
        }
      ],
      "source": [
        "import pandas as pd\n",
        "import numpy as np\n",
        "\n",
        "# create the dictionary data\n",
        "exam_data = {\n",
        "    'name': ['Anastasia', 'Dima', 'Katherine', 'James', 'Emily', 'Michael', 'Matthew', 'Laura', 'Kevin', 'Jonas'],\n",
        "    'score': [12.5, 9, 16.5, np.nan, 9, 20, 14.5, np.nan, 8, 19],\n",
        "    'attempts': [1, 3, 2, 3, 2, 3, 1, 1, 2, 1],\n",
        "    'qualify': ['yes', 'no', 'yes', 'no', 'no', 'yes', 'yes', 'no', 'no', 'yes']\n",
        "}\n",
        "\n",
        "# create the DataFrame with index labels\n",
        "labels = ['a', 'b', 'c', 'd', 'e', 'f', 'g', 'h', 'i', 'j']\n",
        "df = pd.DataFrame(exam_data, index=labels)\n",
        "\n",
        "# display the first three rows using the head() method\n",
        "print(df.head(3))\n",
        "\n",
        "# delete rows with Nan values\n",
        "df.dropna(inplace=True)\n",
        "print(df)\n",
        "\n",
        "# extract the 'name' and 'score' columns from the DataFrame\n",
        "name_score = df[['name', 'score']]\n",
        "print(name_score)\n",
        "\n",
        "# append a new row 'k' to the DataFrame with these values (name: \"Suresh\", score: 15.5, attempts: 1, qualify: \"yes\")\n",
        "new_row = pd.DataFrame({'name': 'Suresh', 'score': 15.5, 'attempts': 1, 'qualify': 'yes'}, index=['k'])\n",
        "df = pd.concat([df, new_row])\n",
        "print(df)\n",
        "\n",
        "# delete the 'attempts' column from the DataFrame\n",
        "df.drop(columns=['attempts'], inplace=True)\n",
        "print(df)\n",
        "\n",
        "# add a new column \"Success\": if the score is higher than 10 we will have 1, else we will have 0\n",
        "df['Success'] = np.where(df['score'] > 10, 1, 0)\n",
        "print(df)\n",
        "\n",
        "# export the final DataFrame into a CSV file named \"my_data\"\n",
        "df.to_csv('my_data.csv', index=False)\n"
      ]
    }
  ]
}